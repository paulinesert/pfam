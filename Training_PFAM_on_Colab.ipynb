{
  "cells": [
    {
      "cell_type": "code",
      "execution_count": null,
      "metadata": {
        "id": "Li94jePTnLjP"
      },
      "outputs": [],
      "source": [
        "! pip install -r requirements.txt"
      ]
    },
    {
      "cell_type": "code",
      "execution_count": null,
      "metadata": {
        "colab": {
          "base_uri": "https://localhost:8080/"
        },
        "id": "R-Fy05ohROQf",
        "outputId": "38ce8988-7686-47ca-8554-fc686c7f9f7f"
      },
      "outputs": [
        {
          "output_type": "stream",
          "name": "stdout",
          "text": [
            "Namespace(data=Namespace(bucket_sampler_buckets=(0, 2400, 200), filter_fam=True, n_fam=50, overwrite=True, seq_lengths_bounds=(None, None)), model=Namespace(bottleneck_factor=0.5, dilation_rate=3, filters=32, in_channels=20, kernel_size=9, num_residual_block=5), train=Namespace(batch_size=32, learning_rate=0.001, log_dir='/content/runs/baseline', log_step=100, lr_factor=0.5, lr_patience=2, n_epochs=50)) Namespace(config_file_path='./config/baseline_config.yaml', store=True, test=True)\n",
            "Dataset will be processed and saved at /content/drive/MyDrive/Instadeep/pfam_test/utils/../data/random_split_processed/train/train.pt\n",
            "Elapsed time to process train set: 3.158658742904663. It contains 55216 samples.\n",
            "Dataset will be processed and saved at /content/drive/MyDrive/Instadeep/pfam_test/utils/../data/random_split_processed/dev/dev.pt\n",
            "Elapsed time to process dev set: 0.3572206497192383. It contains 6875 samples.\n",
            "The model has 33762 trainable parameters.\n",
            "/usr/local/lib/python3.8/dist-packages/scipy/__init__.py:146: UserWarning: A NumPy version >=1.16.5 and <1.23.0 is required for this version of SciPy (detected version 1.23.5\n",
            "  warnings.warn(f\"A NumPy version >={np_minversion} and <{np_maxversion}\"\n",
            "Logs will be saved at /content/runs/baseline/1674067203973958136\n",
            "Train : Epoch 0 - loss: 3.64 - accuracy: 0.31: 100% 1726/1726 [00:32<00:00, 53.22it/s]\n",
            "Val : Epoch 0 - loss: 3.53 - accuracy: 0.42: 100% 215/215 [00:01<00:00, 163.95it/s]\n",
            "Train : Epoch 1 - loss: 3.52 - accuracy: 0.43: 100% 1726/1726 [00:26<00:00, 65.37it/s]\n",
            "Val : Epoch 1 - loss: 3.51 - accuracy: 0.43: 100% 215/215 [00:00<00:00, 216.33it/s]\n",
            "Train : Epoch 2 - loss: 3.43 - accuracy: 0.51: 100% 1726/1726 [00:22<00:00, 75.45it/s]\n",
            "Val : Epoch 2 - loss: 3.39 - accuracy: 0.56: 100% 215/215 [00:01<00:00, 214.76it/s]\n",
            "Train : Epoch 3 - loss: 3.37 - accuracy: 0.57: 100% 1726/1726 [00:22<00:00, 76.20it/s]\n",
            "Val : Epoch 3 - loss: 3.36 - accuracy: 0.58: 100% 215/215 [00:01<00:00, 199.76it/s]\n",
            "Train : Epoch 4 - loss: 3.35 - accuracy: 0.60: 100% 1726/1726 [00:22<00:00, 75.48it/s]\n",
            "Val : Epoch 4 - loss: 3.33 - accuracy: 0.61: 100% 215/215 [00:01<00:00, 211.92it/s]\n",
            "Train : Epoch 5 - loss: 3.32 - accuracy: 0.62: 100% 1726/1726 [00:22<00:00, 75.25it/s]\n",
            "Val : Epoch 5 - loss: 3.31 - accuracy: 0.63: 100% 215/215 [00:00<00:00, 217.01it/s]\n",
            "Train : Epoch 6 - loss: 3.28 - accuracy: 0.67: 100% 1726/1726 [00:22<00:00, 75.76it/s]\n",
            "Val : Epoch 6 - loss: 3.26 - accuracy: 0.68: 100% 215/215 [00:01<00:00, 214.73it/s]\n",
            "Train : Epoch 7 - loss: 3.24 - accuracy: 0.70: 100% 1726/1726 [00:22<00:00, 75.58it/s]\n",
            "Val : Epoch 7 - loss: 3.22 - accuracy: 0.72: 100% 215/215 [00:00<00:00, 215.06it/s]\n",
            "Train : Epoch 8 - loss: 3.22 - accuracy: 0.72: 100% 1726/1726 [00:24<00:00, 69.54it/s]\n",
            "Val : Epoch 8 - loss: 3.21 - accuracy: 0.74: 100% 215/215 [00:01<00:00, 211.77it/s]\n",
            "Train : Epoch 9 - loss: 3.19 - accuracy: 0.75: 100% 1726/1726 [00:24<00:00, 69.41it/s]\n",
            "Val : Epoch 9 - loss: 3.18 - accuracy: 0.76: 100% 215/215 [00:00<00:00, 218.63it/s]\n",
            "Train : Epoch 10 - loss: 3.19 - accuracy: 0.76: 100% 1726/1726 [00:22<00:00, 76.72it/s]\n",
            "Val : Epoch 10 - loss: 3.18 - accuracy: 0.76: 100% 215/215 [00:00<00:00, 223.01it/s]\n",
            "Train : Epoch 11 - loss: 3.15 - accuracy: 0.80: 100% 1726/1726 [00:22<00:00, 76.91it/s]\n",
            "Val : Epoch 11 - loss: 3.12 - accuracy: 0.82: 100% 215/215 [00:00<00:00, 220.52it/s]\n",
            "Train : Epoch 12 - loss: 3.13 - accuracy: 0.81: 100% 1726/1726 [00:22<00:00, 77.05it/s]\n",
            "Val : Epoch 12 - loss: 3.12 - accuracy: 0.82: 100% 215/215 [00:00<00:00, 224.69it/s]\n",
            "Train : Epoch 13 - loss: 3.13 - accuracy: 0.82: 100% 1726/1726 [00:22<00:00, 77.08it/s]\n",
            "Val : Epoch 13 - loss: 3.12 - accuracy: 0.83: 100% 215/215 [00:00<00:00, 217.01it/s]\n",
            "Train : Epoch 14 - loss: 3.11 - accuracy: 0.84: 100% 1726/1726 [00:22<00:00, 77.05it/s]\n",
            "Val : Epoch 14 - loss: 3.10 - accuracy: 0.84: 100% 215/215 [00:01<00:00, 211.20it/s]\n",
            "Train : Epoch 15 - loss: 3.10 - accuracy: 0.84: 100% 1726/1726 [00:22<00:00, 76.07it/s]\n",
            "Val : Epoch 15 - loss: 3.10 - accuracy: 0.84: 100% 215/215 [00:00<00:00, 218.36it/s]\n",
            "Train : Epoch 16 - loss: 3.10 - accuracy: 0.85: 100% 1726/1726 [00:24<00:00, 70.77it/s]\n",
            "Val : Epoch 16 - loss: 3.10 - accuracy: 0.85: 100% 215/215 [00:01<00:00, 211.55it/s]\n",
            "Train : Epoch 17 - loss: 3.10 - accuracy: 0.85: 100% 1726/1726 [00:24<00:00, 70.37it/s]\n",
            "Val : Epoch 17 - loss: 3.08 - accuracy: 0.86: 100% 215/215 [00:00<00:00, 222.76it/s]\n",
            "Train : Epoch 18 - loss: 3.08 - accuracy: 0.86: 100% 1726/1726 [00:22<00:00, 77.72it/s]\n",
            "Val : Epoch 18 - loss: 3.08 - accuracy: 0.87: 100% 215/215 [00:00<00:00, 220.66it/s]\n",
            "Train : Epoch 19 - loss: 3.08 - accuracy: 0.86: 100% 1726/1726 [00:22<00:00, 77.43it/s]\n",
            "Val : Epoch 19 - loss: 3.08 - accuracy: 0.86: 100% 215/215 [00:00<00:00, 216.20it/s]\n",
            "Train : Epoch 20 - loss: 3.08 - accuracy: 0.86: 100% 1726/1726 [00:22<00:00, 76.74it/s]\n",
            "Val : Epoch 20 - loss: 3.09 - accuracy: 0.86: 100% 215/215 [00:00<00:00, 222.95it/s]\n",
            "Train : Epoch 21 - loss: 3.08 - accuracy: 0.86: 100% 1726/1726 [00:22<00:00, 77.67it/s]\n",
            "Val : Epoch 21 - loss: 3.08 - accuracy: 0.86: 100% 215/215 [00:00<00:00, 220.79it/s]\n",
            "Train : Epoch 22 - loss: 3.07 - accuracy: 0.88: 100% 1726/1726 [00:22<00:00, 77.20it/s]\n",
            "Val : Epoch 22 - loss: 3.05 - accuracy: 0.89: 100% 215/215 [00:00<00:00, 221.71it/s]\n",
            "Train : Epoch 23 - loss: 3.05 - accuracy: 0.89: 100% 1726/1726 [00:22<00:00, 76.54it/s]\n",
            "Val : Epoch 23 - loss: 3.05 - accuracy: 0.89: 100% 215/215 [00:00<00:00, 219.50it/s]\n",
            "Train : Epoch 24 - loss: 3.05 - accuracy: 0.89: 100% 1726/1726 [00:24<00:00, 70.77it/s]\n",
            "Val : Epoch 24 - loss: 3.05 - accuracy: 0.89: 100% 215/215 [00:00<00:00, 224.64it/s]\n",
            "Train : Epoch 25 - loss: 3.05 - accuracy: 0.89: 100% 1726/1726 [00:24<00:00, 70.61it/s]\n",
            "Val : Epoch 25 - loss: 3.05 - accuracy: 0.90: 100% 215/215 [00:00<00:00, 219.04it/s]\n",
            "Train : Epoch 26 - loss: 3.05 - accuracy: 0.89: 100% 1726/1726 [00:22<00:00, 77.39it/s]\n",
            "Val : Epoch 26 - loss: 3.05 - accuracy: 0.89: 100% 215/215 [00:00<00:00, 215.46it/s]\n",
            "Train : Epoch 27 - loss: 3.05 - accuracy: 0.89: 100% 1726/1726 [00:22<00:00, 77.11it/s]\n",
            "Val : Epoch 27 - loss: 3.05 - accuracy: 0.89: 100% 215/215 [00:01<00:00, 214.36it/s]\n",
            "Train : Epoch 28 - loss: 3.05 - accuracy: 0.89: 100% 1726/1726 [00:22<00:00, 76.74it/s]\n",
            "Val : Epoch 28 - loss: 3.05 - accuracy: 0.89: 100% 215/215 [00:00<00:00, 220.81it/s]\n",
            "Train : Epoch 29 - loss: 3.05 - accuracy: 0.89: 100% 1726/1726 [00:22<00:00, 77.68it/s]\n",
            "Val : Epoch 29 - loss: 3.05 - accuracy: 0.89: 100% 215/215 [00:00<00:00, 222.87it/s]\n",
            "Train : Epoch 30 - loss: 3.05 - accuracy: 0.89: 100% 1726/1726 [00:22<00:00, 76.89it/s]\n",
            "Val : Epoch 30 - loss: 3.05 - accuracy: 0.89: 100% 215/215 [00:00<00:00, 221.44it/s]\n",
            "Train : Epoch 31 - loss: 3.05 - accuracy: 0.90: 100% 1726/1726 [00:22<00:00, 78.30it/s]\n",
            "Val : Epoch 31 - loss: 3.04 - accuracy: 0.91: 100% 215/215 [00:00<00:00, 223.66it/s]\n",
            "Train : Epoch 32 - loss: 3.04 - accuracy: 0.91: 100% 1726/1726 [00:24<00:00, 70.35it/s]\n",
            "Val : Epoch 32 - loss: 3.03 - accuracy: 0.91: 100% 215/215 [00:01<00:00, 163.41it/s]\n",
            "Train : Epoch 33 - loss: 3.04 - accuracy: 0.91: 100% 1726/1726 [00:23<00:00, 73.27it/s]\n",
            "Val : Epoch 33 - loss: 3.04 - accuracy: 0.91: 100% 215/215 [00:01<00:00, 213.96it/s]\n",
            "Train : Epoch 34 - loss: 3.04 - accuracy: 0.91: 100% 1726/1726 [00:22<00:00, 77.76it/s]\n",
            "Val : Epoch 34 - loss: 3.04 - accuracy: 0.91: 100% 215/215 [00:00<00:00, 218.16it/s]\n",
            "Train : Epoch 35 - loss: 3.04 - accuracy: 0.91: 100% 1726/1726 [00:22<00:00, 78.15it/s]\n",
            "Val : Epoch 35 - loss: 3.04 - accuracy: 0.91: 100% 215/215 [00:00<00:00, 218.55it/s]\n",
            "Train : Epoch 36 - loss: 3.04 - accuracy: 0.91: 100% 1726/1726 [00:22<00:00, 77.99it/s]\n",
            "Val : Epoch 36 - loss: 3.04 - accuracy: 0.91: 100% 215/215 [00:01<00:00, 214.32it/s]\n",
            "Train : Epoch 37 - loss: 3.04 - accuracy: 0.91: 100% 1726/1726 [00:22<00:00, 77.56it/s]\n",
            "Val : Epoch 37 - loss: 3.02 - accuracy: 0.93: 100% 215/215 [00:00<00:00, 226.03it/s]\n",
            "Train : Epoch 38 - loss: 3.02 - accuracy: 0.93: 100% 1726/1726 [00:22<00:00, 77.98it/s]\n",
            "Val : Epoch 38 - loss: 3.02 - accuracy: 0.93: 100% 215/215 [00:00<00:00, 216.39it/s]\n",
            "Train : Epoch 39 - loss: 3.02 - accuracy: 0.93: 100% 1726/1726 [00:22<00:00, 78.14it/s]\n",
            "Val : Epoch 39 - loss: 3.02 - accuracy: 0.93: 100% 215/215 [00:00<00:00, 221.70it/s]\n",
            "Train : Epoch 40 - loss: 3.02 - accuracy: 0.93: 100% 1726/1726 [00:25<00:00, 68.34it/s]\n",
            "Val : Epoch 40 - loss: 3.02 - accuracy: 0.93: 100% 215/215 [00:01<00:00, 151.34it/s]\n",
            "Train : Epoch 41 - loss: 3.02 - accuracy: 0.93: 100% 1726/1726 [00:22<00:00, 75.31it/s]\n",
            "Val : Epoch 41 - loss: 3.02 - accuracy: 0.93: 100% 215/215 [00:00<00:00, 222.06it/s]\n",
            "Train : Epoch 42 - loss: 3.02 - accuracy: 0.93: 100% 1726/1726 [00:22<00:00, 77.47it/s]\n",
            "Val : Epoch 42 - loss: 3.02 - accuracy: 0.93: 100% 215/215 [00:00<00:00, 220.47it/s]\n",
            "Train : Epoch 43 - loss: 3.02 - accuracy: 0.93: 100% 1726/1726 [00:22<00:00, 77.88it/s]\n",
            "Val : Epoch 43 - loss: 3.02 - accuracy: 0.93: 100% 215/215 [00:00<00:00, 218.46it/s]\n",
            "Train : Epoch 44 - loss: 3.02 - accuracy: 0.93: 100% 1726/1726 [00:22<00:00, 78.16it/s]\n",
            "Val : Epoch 44 - loss: 3.02 - accuracy: 0.93: 100% 215/215 [00:00<00:00, 221.69it/s]\n",
            "Train : Epoch 45 - loss: 3.02 - accuracy: 0.93: 100% 1726/1726 [00:22<00:00, 77.40it/s]\n",
            "Val : Epoch 45 - loss: 3.01 - accuracy: 0.93: 100% 215/215 [00:00<00:00, 220.85it/s]\n",
            "Train : Epoch 46 - loss: 3.02 - accuracy: 0.93: 100% 1726/1726 [00:22<00:00, 77.95it/s]\n",
            "Val : Epoch 46 - loss: 3.02 - accuracy: 0.93: 100% 215/215 [00:00<00:00, 222.78it/s]\n",
            "Train : Epoch 47 - loss: 3.02 - accuracy: 0.93: 100% 1726/1726 [00:22<00:00, 76.85it/s]\n",
            "Val : Epoch 47 - loss: 3.02 - accuracy: 0.93: 100% 215/215 [00:00<00:00, 216.55it/s]\n",
            "Train : Epoch 48 - loss: 3.02 - accuracy: 0.93: 100% 1726/1726 [00:26<00:00, 65.98it/s]\n",
            "Val : Epoch 48 - loss: 3.02 - accuracy: 0.93: 100% 215/215 [00:01<00:00, 179.53it/s]\n",
            "Train : Epoch 49 - loss: 3.02 - accuracy: 0.93: 100% 1726/1726 [00:22<00:00, 77.11it/s]\n",
            "Val : Epoch 49 - loss: 3.02 - accuracy: 0.93: 100% 215/215 [00:00<00:00, 216.98it/s]\n",
            "Dataset will be processed and saved at /content/drive/MyDrive/Instadeep/pfam_test/utils/../data/random_split_processed/test/test.pt\n",
            "Elapsed time to process test set: 0.3918025493621826. It contains 6875 samples.\n",
            "100% 215/215 [00:01<00:00, 195.75it/s]\n",
            "Test : Epoch 49 - loss: 3.02 - accuracy: 0.93\n"
          ]
        }
      ],
      "source": [
        "! python train.py --config_file_path ./config/baseline_config.yaml --test --store"
      ]
    }
  ],
  "metadata": {
    "accelerator": "GPU",
    "colab": {
      "provenance": []
    },
    "gpuClass": "standard",
    "kernelspec": {
      "display_name": "Python 3",
      "name": "python3"
    },
    "language_info": {
      "name": "python"
    }
  },
  "nbformat": 4,
  "nbformat_minor": 0
}